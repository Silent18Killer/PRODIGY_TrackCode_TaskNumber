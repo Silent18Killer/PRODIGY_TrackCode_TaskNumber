{
 "cells": [
  {
   "cell_type": "code",
   "execution_count": 21,
   "id": "80f73864-f02e-4a3e-a52a-9fa53d1903b0",
   "metadata": {},
   "outputs": [],
   "source": [
    "import requests\n",
    "from bs4 import BeautifulSoup\n",
    "import pandas as pd"
   ]
  },
  {
   "cell_type": "code",
   "execution_count": 22,
   "id": "9bfbf95a-5691-4531-af34-94ceb33bef70",
   "metadata": {},
   "outputs": [],
   "source": [
    "URL = \"https://www.amazon.com/s?k=playstation+5&crid=QYOT8X2FDF9F&sprefix=playstation+5%2Caps%2C389&ref=nb_sb_noss_1\"\n",
    "HEADERS = ({\n",
    "    'User-Agent': 'Mozilla/5.0 (Windows NT 10.0; Win64; x64) AppleWebKit/537.36 (KHTML, like Gecko) Chrome/123.0.0.0 Safari/537.36 OPR/109.0.0.0',\n",
    "    'Accept-Language': 'en-US, en;q=0.5'\n",
    "})"
   ]
  },
  {
   "cell_type": "code",
   "execution_count": 23,
   "id": "511e4550-e3fc-4ac7-899c-1ef876bd8686",
   "metadata": {},
   "outputs": [],
   "source": [
    "def get_product_details(soup):\n",
    "    title = soup.find(\"span\", attrs={\"id\": \"productTitle\"})\n",
    "    price = soup.find(\"span\", attrs={\"class\": \"a-price-whole\"})\n",
    "    review = soup.find(\"span\", attrs={\"id\": \"acrCustomerReviewText\"})\n",
    "\n",
    "    title = title.text.strip() if title else \"N/A\"\n",
    "    price = price.text.strip() if price else \"N/A\"\n",
    "    review = review.text.strip() if review else \"N/A\"\n",
    "\n",
    "    return title, price, review"
   ]
  },
  {
   "cell_type": "code",
   "execution_count": 24,
   "id": "0a48b923-81e2-48ab-bce0-e66f9b2a9dee",
   "metadata": {},
   "outputs": [],
   "source": [
    "webpage = requests.get(URL, headers=HEADERS)\n",
    "soup = BeautifulSoup(webpage.content, \"html.parser\")"
   ]
  },
  {
   "cell_type": "code",
   "execution_count": 25,
   "id": "87a5a668-8ca6-4af8-a069-8c477652d89b",
   "metadata": {},
   "outputs": [],
   "source": [
    "links = soup.find_all(\"a\", attrs={'class': 'a-link-normal s-no-outline'})\n",
    "\n",
    "products = []\n",
    "for link in links[:20]:  # limiting to first 20 products for demonstration\n",
    "    product_link = \"https://www.amazon.com\" + link.get('href')\n",
    "    product_page = requests.get(product_link, headers=HEADERS)\n",
    "    product_soup = BeautifulSoup(product_page.content, \"html.parser\")\n",
    "    \n",
    "    title, price, review = get_product_details(product_soup)\n",
    "    products.append({\"Title\": title, \"Price\": price, \"Review\": review})"
   ]
  },
  {
   "cell_type": "code",
   "execution_count": 26,
   "id": "85d11e27-141c-4311-a8cd-714af5bb42fe",
   "metadata": {},
   "outputs": [
    {
     "name": "stdout",
     "output_type": "stream",
     "text": [
      "                                                Title Price          Review\n",
      "0                        PlayStation®5 console (slim)   15.   5,976 ratings\n",
      "1           PlayStation 5 Digital Edition - CFI-1102B  479.     828 ratings\n",
      "2   PlayStation 5 Digital Edition – Marvel’s Spide...  399.     366 ratings\n",
      "3                       PlayStation 5 Digital Edition   64.   2,115 ratings\n",
      "4       EA SPORTS College Football 25 - PlayStation 5   69.             N/A\n",
      "5   PlayStation DualSense Wireless Controller – Ga...   74.  25,946 ratings\n",
      "6          PS5 Console- Horizon Forbidden West Bundle  429.   6,796 ratings\n",
      "7    PlayStation Portal Remote Player - PlayStation 5   21.     935 ratings\n",
      "8   NexiGo Enhanced PS5 Controller Charger, Dual C...    7.     437 ratings\n",
      "9   Logitech G29 Driving Force Racing Wheel and Fl...  299.  18,764 ratings\n",
      "10  Game Console Backpack Compatible with Sony Pla...   29.        1 rating\n",
      "11  PS5 Skin - Disc Edition Console and Controller...   16.     425 ratings\n",
      "12           PlayStation Pulse Elite Wireless Headset  148.     625 ratings\n",
      "13                     PULSE Explore Wireless Earbuds  199.     341 ratings\n",
      "14                           Playstation Media Remote   29.  12,420 ratings\n",
      "15  The Crew Motorfest - Standard Edition, PlaySta...   34.     329 ratings\n",
      "16  WishJazz Wall Mount Kit for PS5/PS5 Slim with ...   32.       2 ratings\n",
      "17  WD_BLACK 2TB SN850P NVMe M.2 SSD Officially Li...  209.  10,354 ratings\n",
      "18  Travel Backpack for PS5, Protective Carrying C...   35.      19 ratings\n",
      "19  AMZDM for PS5 Stand Cooling Station with Dual ...   26.     171 ratings\n"
     ]
    }
   ],
   "source": [
    "df = pd.DataFrame(products)\n",
    "df.to_csv(\"products.csv\", index=False)\n",
    "\n",
    "print(df)"
   ]
  },
  {
   "cell_type": "code",
   "execution_count": null,
   "id": "bf33f7b6-8250-4975-8ca6-b59f0df3cf11",
   "metadata": {},
   "outputs": [],
   "source": []
  }
 ],
 "metadata": {
  "kernelspec": {
   "display_name": "Python 3 (ipykernel)",
   "language": "python",
   "name": "python3"
  },
  "language_info": {
   "codemirror_mode": {
    "name": "ipython",
    "version": 3
   },
   "file_extension": ".py",
   "mimetype": "text/x-python",
   "name": "python",
   "nbconvert_exporter": "python",
   "pygments_lexer": "ipython3",
   "version": "3.11.7"
  }
 },
 "nbformat": 4,
 "nbformat_minor": 5
}
